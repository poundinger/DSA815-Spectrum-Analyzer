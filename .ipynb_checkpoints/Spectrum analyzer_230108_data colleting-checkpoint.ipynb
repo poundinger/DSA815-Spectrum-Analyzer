{
 "cells": [
  {
   "cell_type": "code",
   "execution_count": 92,
   "id": "ab069595",
   "metadata": {},
   "outputs": [
    {
     "data": {
      "text/plain": [
       "('USB0::0x1AB1::0x0960::DSA8A224501273::INSTR',)"
      ]
     },
     "execution_count": 92,
     "metadata": {},
     "output_type": "execute_result"
    }
   ],
   "source": [
    "import numpy as np\n",
    "import pandas as pd\n",
    "import pyvisa\n",
    "rm = pyvisa.ResourceManager()\n",
    "rm.list_resources()"
   ]
  },
  {
   "cell_type": "code",
   "execution_count": 93,
   "id": "fe14f5de",
   "metadata": {},
   "outputs": [],
   "source": [
    "from datetime import datetime"
   ]
  },
  {
   "cell_type": "code",
   "execution_count": 94,
   "id": "71f0a609",
   "metadata": {},
   "outputs": [
    {
     "name": "stdout",
     "output_type": "stream",
     "text": [
      "Center Frq: 75000000\n",
      "\n",
      "Frq SPAN: 50000000\n",
      "\n",
      "Frq start: 50000000\n",
      "\n",
      "Frq stop: 100000000\n",
      "\n",
      "Sweep time: 1.000000E-02\n",
      "\n"
     ]
    }
   ],
   "source": [
    "#Preseting before collect data\n",
    "inst = rm.open_resource('USB0::0x1AB1::0x0960::DSA8A224501273::INSTR')\n",
    "inst.write(\":SENSe:FREQuency:CENTer 150000000\") #set center frquency\n",
    "#inst.write(\":SENSe:FREQuency:SPAN 100000000\") # can be set in here or set Start/Stop Frq\n",
    "inst.write(\":SENSe:BANDwidth:RESolution 1000000\") # set RBW: 100kHz, 300kHz, 1MHz\n",
    "inst.write(\":SENSe:FREQuency:START 50000000\") #Start Frq in HZ\n",
    "inst.write(\":SENSe:FREQuency:STOP 100000000\") #Stop Frq in Hz\n",
    "inst.write(\":SENSe:SWEep:TIME 0.01\") # set sweep times to 10 ms\n",
    "print(\"Center Frq:\",inst.query(\":SENSe:FREQuency:CENTer?\"))\n",
    "print(\"Frq SPAN:\",inst.query(\":SENSe:FREQuency:SPAN?\"))\n",
    "print(\"Frq start:\",inst.query(\":SENSe:FREQuency:STARt?\"))\n",
    "print(\"Frq stop:\",inst.query(\":SENSe:FREQuency:STOP?\"))\n",
    "print(\"Sweep time:\",inst.query(\":SENSe:SWEep:TIME?\"))\n",
    "inst.close()"
   ]
  },
  {
   "cell_type": "code",
   "execution_count": 106,
   "id": "a37f0907",
   "metadata": {},
   "outputs": [],
   "source": [
    "#colleting data\n",
    "n=10                         # 10 times is 1 sec\n",
    "for i in range (n):  \n",
    "    rm = pyvisa.ResourceManager()\n",
    "    inst = rm.open_resource('USB0::0x1AB1::0x0960::DSA8A224501273::INSTR')\n",
    "    a=inst.query(\":TRACe:DATA? TRACE1\")\n",
    "    data= a.split(\",\")\n",
    "    b=data[0]                #convert first value to float for remove #9000009014 in first element\n",
    "    data[0]=float(b[12:25])  #covert first value to float\n",
    "    del data[600]            # remove NaN in last value then we get 600 point per round \n",
    "    df = pd.DataFrame(data)\n",
    "    df.to_csv('D:/Thesis 4th year/spectrum analyzer/test'+str(i)+'ms.csv')\n",
    "    #ISO_time = datetime.now().isoformat()\n",
    "    #print(f\"Current DateTime in ISO: {ISO_time}\")\n",
    "    #time.sleep(0.1)          # for each round it take around 100 ms per round\n",
    "    \n",
    "    inst.close()"
   ]
  },
  {
   "cell_type": "code",
   "execution_count": null,
   "id": "fed0f352",
   "metadata": {},
   "outputs": [],
   "source": []
  }
 ],
 "metadata": {
  "kernelspec": {
   "display_name": "Python 3",
   "language": "python",
   "name": "python3"
  },
  "language_info": {
   "codemirror_mode": {
    "name": "ipython",
    "version": 3
   },
   "file_extension": ".py",
   "mimetype": "text/x-python",
   "name": "python",
   "nbconvert_exporter": "python",
   "pygments_lexer": "ipython3",
   "version": "3.8.8"
  }
 },
 "nbformat": 4,
 "nbformat_minor": 5
}
